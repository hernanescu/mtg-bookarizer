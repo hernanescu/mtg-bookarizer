{
 "cells": [
  {
   "cell_type": "markdown",
   "id": "2b382294-b0bf-4229-8a7c-920a088ad141",
   "metadata": {},
   "source": [
    "[![Open in Colab](https://colab.research.google.com/assets/colab-badge.svg)](https://colab.research.google.com/github/hernanescu/mtg-bookarizer/blob/main/mtg-bookarizer.ipynb)"
   ]
  },
  {
   "cell_type": "code",
   "execution_count": 1,
   "id": "c69d1a57-6951-4769-841c-c22de06bbb67",
   "metadata": {
    "collapsed": true,
    "jupyter": {
     "outputs_hidden": true
    },
    "tags": []
   },
   "outputs": [
    {
     "name": "stdout",
     "output_type": "stream",
     "text": [
      "Collecting ebooklib\n",
      "  Downloading EbookLib-0.17.1.tar.gz (111 kB)\n",
      "\u001b[2K     \u001b[90m━━━━━━━━━━━━━━━━━━━━━━━━━━━━━━━━━━━━━━━\u001b[0m \u001b[32m111.6/111.6 kB\u001b[0m \u001b[31m2.6 MB/s\u001b[0m eta \u001b[36m0:00:00\u001b[0ma \u001b[36m0:00:01\u001b[0m\n",
      "\u001b[?25h  Preparing metadata (setup.py) ... \u001b[?25ldone\n",
      "\u001b[?25hCollecting lxml\n",
      "  Downloading lxml-4.9.1-cp37-cp37m-manylinux_2_17_x86_64.manylinux2014_x86_64.manylinux_2_24_x86_64.whl (6.4 MB)\n",
      "\u001b[2K     \u001b[90m━━━━━━━━━━━━━━━━━━━━━━━━━━━━━━━━━━━━━━━━\u001b[0m \u001b[32m6.4/6.4 MB\u001b[0m \u001b[31m70.8 MB/s\u001b[0m eta \u001b[36m0:00:00\u001b[0m:00:01\u001b[0m00:01\u001b[0m\n",
      "\u001b[?25hRequirement already satisfied: six in /opt/conda/lib/python3.7/site-packages (from ebooklib) (1.15.0)\n",
      "Building wheels for collected packages: ebooklib\n",
      "  Building wheel for ebooklib (setup.py) ... \u001b[?25ldone\n",
      "\u001b[?25h  Created wheel for ebooklib: filename=EbookLib-0.17.1-py3-none-any.whl size=38184 sha256=08a59471268f6b0d866466f95cc61a2fcd266d172fb1f1e70a0e79c6c55928c3\n",
      "  Stored in directory: /home/jupyter/.cache/pip/wheels/43/39/fd/db4f652431a55d28472ba7f5f7c9a8efad03b97f443a48ea2f\n",
      "Successfully built ebooklib\n",
      "Installing collected packages: lxml, ebooklib\n",
      "Successfully installed ebooklib-0.17.1 lxml-4.9.1\n"
     ]
    }
   ],
   "source": [
    "# librerías que tenemos que instalar\n",
    "!pip install ebooklib\n",
    "!pip install nltk"
   ]
  },
  {
   "cell_type": "code",
   "execution_count": 2,
   "id": "253f01af-cb0e-4662-852c-169b17ced945",
   "metadata": {},
   "outputs": [],
   "source": [
    "# scrapeo del sitio y procesamiento\n",
    "import requests\n",
    "from bs4 import BeautifulSoup\n",
    "import pandas as pd\n",
    "import re\n",
    "import time\n",
    "import numpy as np\n",
    "import nltk\n",
    "import matplotlib as plt\n",
    "import seaborn as sns"
   ]
  },
  {
   "cell_type": "code",
   "execution_count": 3,
   "id": "7dd0811f-3055-441d-9451-1b5b9bf05a86",
   "metadata": {},
   "outputs": [],
   "source": [
    "# función para scrapear el nombre de quien haya escrito la historia\n",
    "def find_author(URL):\n",
    "    request = requests.get(URL)\n",
    "    soup = BeautifulSoup(request.text, 'html.parser')\n",
    "    cuerpo = soup.find('div', {'class':'author'})\n",
    "    autor = cuerpo.find_all('p')\n",
    "    parrafos = [p.text.replace(\"<h1>\",\"\").replace(\"</h1>\",\"\") for p in autor]\n",
    "    full_name = parrafos[0].replace('By ', '')\n",
    "    return full_name"
   ]
  },
  {
   "cell_type": "code",
   "execution_count": 4,
   "id": "13c4e072-14bd-41aa-899e-685e02fdbcb3",
   "metadata": {},
   "outputs": [],
   "source": [
    "# función para scrapear el título de la historia\n",
    "def find_title(URL):\n",
    "    request = requests.get(URL)\n",
    "    soup = BeautifulSoup(request.text, 'html.parser')\n",
    "    cuerpo = soup.find(id='main-content')\n",
    "    titulo = cuerpo.find_all('h1')\n",
    "    parrafos = [p.text.replace(\"<h1>\",\"\").replace(\"</h1>\",\"\") for p in titulo]\n",
    "    name = parrafos[0]\n",
    "    return name"
   ]
  },
  {
   "cell_type": "code",
   "execution_count": 5,
   "id": "90d8ffed-92c3-4590-ac31-454fc46e4670",
   "metadata": {},
   "outputs": [],
   "source": [
    "# lo picante: función para levantar el texto de la historia, preservando los atributos estéticos y líneas divisoras\n",
    "# una vez que está el texto, para poder meterlo en el ebook tiene que ser un único string con formato HTML\n",
    "def get_text(link):\n",
    "    # Vamos al link\n",
    "    r = requests.get(link)\n",
    "    # print(r.text)\n",
    "    soup = BeautifulSoup(r.text, 'html.parser')\n",
    "    # print(soup)\n",
    "    # Buscamos los parrafos\n",
    "    cuerpo = soup.find(id='content-detail-page-of-an-article')\n",
    "    parrafos = cuerpo.find_all(['p', 'hr'])\n",
    "    # Agarramos solo el texto de cada parrafo y le sacamos \\r y \\n que definen nuevas lineas\n",
    "    \n",
    "    init = '<p>'\n",
    "    close = '</p>'\n",
    "    res = ''\n",
    "\n",
    "    # generación de string único \n",
    "    for ele in parrafos:\n",
    "        res += init + str(ele) + close\n",
    "  \n",
    "    return res"
   ]
  },
  {
   "cell_type": "code",
   "execution_count": 6,
   "id": "3cd914bb-cbd8-4b3c-9ec8-b3b64d5c7f16",
   "metadata": {},
   "outputs": [],
   "source": [
    "# en este caso tomamos la historia de Dominaria United! \n",
    "# decidí ordenarlos en orden cronológico, para intercalar las side stories :)\n",
    "\n",
    "LINK_1 = 'https://magic.wizards.com/en/articles/archive/magic-story/episode-1-echoes-dark-2022-08-10'\n",
    "LINK_2 = 'https://magic.wizards.com/en/articles/archive/magic-story/episode-2-sand-hourglass-2022-08-11'\n",
    "LINK_3 = 'https://magic.wizards.com/en/articles/archive/magic-story/episode-3-locked-tower-2022-08-12'\n",
    "LINK_4 = 'https://magic.wizards.com/en/articles/archive/magic-story/homecoming-2022-08-12'\n",
    "LINK_5 = 'https://magic.wizards.com/en/articles/archive/magic-story/episode-4-brutal-blow-2022-08-15'\n",
    "LINK_6 = 'https://magic.wizards.com/en/articles/archive/magic-story/education-ulf-2022-08-15'\n",
    "LINK_7 = 'https://magic.wizards.com/en/articles/archive/magic-story/death-and-salvation-2022-08-16'\n",
    "LINK_8 = 'https://magic.wizards.com/en/articles/archive/magic-story/shards-nightmares-2022-08-17'\n",
    "LINK_9 = 'https://magic.wizards.com/en/articles/archive/magic-story/faith-birds-2022-08-17'\n",
    "LINK_10 = 'https://magic.wizards.com/en/articles/archive/magic-story/episode-5-whisper-wind-2022-08-18'\n"
   ]
  },
  {
   "cell_type": "code",
   "execution_count": 7,
   "id": "c044eaf8-ca44-472d-8797-e3161e85e164",
   "metadata": {},
   "outputs": [],
   "source": [
    "# buscamos el autor de cada link\n",
    "AUTHOR_1 = find_author(LINK_1)\n",
    "AUTHOR_2 = find_author(LINK_2)\n",
    "AUTHOR_3 = find_author(LINK_3)\n",
    "AUTHOR_4 = find_author(LINK_4)\n",
    "AUTHOR_5 = find_author(LINK_5)\n",
    "AUTHOR_6 = find_author(LINK_6)\n",
    "AUTHOR_7 = find_author(LINK_7)\n",
    "AUTHOR_8 = find_author(LINK_8)\n",
    "AUTHOR_9 = find_author(LINK_9)\n",
    "AUTHOR_10 = find_author(LINK_10)"
   ]
  },
  {
   "cell_type": "code",
   "execution_count": 8,
   "id": "b859c5a8-1304-4035-bf21-fe26d8dd1f72",
   "metadata": {},
   "outputs": [],
   "source": [
    "# buscamos el título de cada link\n",
    "TITLE_1 = find_title(LINK_1)\n",
    "TITLE_2 = find_title(LINK_2)\n",
    "TITLE_3 = find_title(LINK_3)\n",
    "TITLE_4 = find_title(LINK_4)\n",
    "TITLE_5 = find_title(LINK_5)\n",
    "TITLE_6 = find_title(LINK_6)\n",
    "TITLE_7 = find_title(LINK_7)\n",
    "TITLE_8 = find_title(LINK_8)\n",
    "TITLE_9 = find_title(LINK_9)\n",
    "TITLE_10 = find_title(LINK_10)\n"
   ]
  },
  {
   "cell_type": "code",
   "execution_count": 9,
   "id": "0eda4198-2a2c-4bd6-9339-99716400f561",
   "metadata": {},
   "outputs": [],
   "source": [
    "# buscamos el texto de cada link\n",
    "STORY_1 = get_text(LINK_1)\n",
    "STORY_2 = get_text(LINK_2)\n",
    "STORY_3 = get_text(LINK_3)\n",
    "STORY_4 = get_text(LINK_4)\n",
    "STORY_5 = get_text(LINK_5)\n",
    "STORY_6 = get_text(LINK_6)\n",
    "STORY_7 = get_text(LINK_7)\n",
    "STORY_8 = get_text(LINK_8)\n",
    "STORY_9 = get_text(LINK_9)\n",
    "STORY_10 = get_text(LINK_10)\n"
   ]
  },
  {
   "cell_type": "code",
   "execution_count": 13,
   "id": "65b0b957-8cbc-4c7a-a854-17302dff76fc",
   "metadata": {},
   "outputs": [
    {
     "data": {
      "text/plain": [
       "\"<p><p>Teferi slammed a Phyrexian monstrosity onto Karn's worktop and pinned it with a knife. The cre\""
      ]
     },
     "execution_count": 13,
     "metadata": {},
     "output_type": "execute_result"
    }
   ],
   "source": [
    "# pequeña prueba\n",
    "STORY_10[0:100]"
   ]
  },
  {
   "cell_type": "code",
   "execution_count": 21,
   "id": "bbd7b4e1-b495-4feb-b6e7-3da1f2ac6422",
   "metadata": {},
   "outputs": [],
   "source": [
    "# generación del ebook\n",
    "from ebooklib import epub\n",
    "\n",
    "# primero se instancia un objeto \"book\"\n",
    "book = epub.EpubBook()\n",
    "TITLE = 'Magic: The Gathering: Dominaria United'\n",
    "book.set_identifier('herno-mtg-0-1')\n",
    "book.set_title(TITLE)\n",
    "book.set_language('en')\n",
    "\n",
    "# se le agregan los autores\n",
    "book.add_author(AUTHOR_1)\n",
    "book.add_author(AUTHOR_2)\n",
    "book.add_author(AUTHOR_3)\n",
    "book.add_author(AUTHOR_4)\n",
    "book.add_author(AUTHOR_5)\n",
    "book.add_author(AUTHOR_6)\n",
    "book.add_author(AUTHOR_7)\n",
    "book.add_author(AUTHOR_8)\n",
    "book.add_author(AUTHOR_9)\n",
    "book.add_author(AUTHOR_10)\n",
    "\n",
    "# se agregan los capítulos (título y archivo interno de renderizado)\n",
    "c1 = epub.EpubHtml(title=TITLE_1, file_name='chap_01.xhtml', lang='en')\n",
    "c2 = epub.EpubHtml(title=TITLE_2, file_name='chap_02.xhtml', lang='en')\n",
    "c3 = epub.EpubHtml(title=TITLE_3, file_name='chap_03.xhtml', lang='en')\n",
    "c4 = epub.EpubHtml(title=TITLE_4, file_name='chap_04.xhtml', lang='en')\n",
    "c5 = epub.EpubHtml(title=TITLE_5, file_name='chap_05.xhtml', lang='en')\n",
    "c6 = epub.EpubHtml(title=TITLE_6, file_name='chap_06.xhtml', lang='en')\n",
    "c7 = epub.EpubHtml(title=TITLE_7, file_name='chap_07.xhtml', lang='en')\n",
    "c8 = epub.EpubHtml(title=TITLE_8, file_name='chap_08.xhtml', lang='en')\n",
    "c9 = epub.EpubHtml(title=TITLE_9, file_name='chap_09.xhtml', lang='en')\n",
    "c10 = epub.EpubHtml(title=TITLE_10, file_name='chap_10.xhtml', lang='en')\n",
    "\n",
    "# a cada capítulo se le agrega su contenido. \n",
    "# Para que quede más lindo en la lectura, a ese string le agregamos un h1 con el título del capítulo\n",
    "c1.content=f'<h1>{TITLE_1}</h1>{STORY_1}'\n",
    "c2.content=f'<h1>{TITLE_2}</h1>{STORY_2}'\n",
    "c3.content=f'<h1>{TITLE_3}</h1>{STORY_3}'\n",
    "c4.content=f'<h1>{TITLE_4}</h1>{STORY_4}'\n",
    "c5.content=f'<h1>{TITLE_5}</h1>{STORY_5}'\n",
    "c6.content=f'<h1>{TITLE_6}</h1>{STORY_6}'\n",
    "c7.content=f'<h1>{TITLE_7}</h1>{STORY_7}'\n",
    "c8.content=f'<h1>{TITLE_8}</h1>{STORY_8}'\n",
    "c9.content=f'<h1>{TITLE_9}</h1>{STORY_9}'\n",
    "c10.content=f'<h1>{TITLE_10}</h1>{STORY_10}'\n",
    "\n",
    "# le agregamos cada capítulo al objeto book\n",
    "book.add_item(c1)\n",
    "book.add_item(c2)\n",
    "book.add_item(c3)\n",
    "book.add_item(c4)\n",
    "book.add_item(c5)\n",
    "book.add_item(c6)\n",
    "book.add_item(c7)\n",
    "book.add_item(c8)\n",
    "book.add_item(c9)\n",
    "book.add_item(c10)\n",
    "\n",
    "\n",
    "# definimos la tabla de contenidos\n",
    "book.toc = (epub.Link('chap_01.xhtml', TITLE_1, TITLE_1),\n",
    "            epub.Link('chap_02.xhtml', TITLE_2, TITLE_2),\n",
    "            epub.Link('chap_03.xhtml', TITLE_3, TITLE_3),\n",
    "            epub.Link('chap_04.xhtml', TITLE_4, TITLE_4),\n",
    "            epub.Link('chap_05.xhtml', TITLE_5, TITLE_5),\n",
    "            epub.Link('chap_06.xhtml', TITLE_6, TITLE_6),\n",
    "            epub.Link('chap_07.xhtml', TITLE_7, TITLE_7),\n",
    "            epub.Link('chap_08.xhtml', TITLE_8, TITLE_8),\n",
    "            epub.Link('chap_09.xhtml', TITLE_9, TITLE_9),\n",
    "            epub.Link('chap_10.xhtml', TITLE_10, TITLE_10)\n",
    "            )\n",
    "\n",
    "# hay que agregar archivos ncv y nav, son de configuraciones internas\n",
    "book.add_item(epub.EpubNcx())\n",
    "book.add_item(epub.EpubNav())\n",
    "\n",
    "# definimos un estilo CSS, este es el default\n",
    "style = 'BODY {color: white;}'\n",
    "nav_css = epub.EpubItem(uid=\"style_nav\", file_name=\"style/nav.css\", media_type=\"text/css\", content=style)\n",
    "\n",
    "# agregamos el CSS\n",
    "book.add_item(nav_css)\n",
    "\n",
    "# se arma el \"lomo\" del libro\n",
    "book.spine = ['nav', c1, c2, c3, c4, c5, c6, c7, c8, c9, c10]\n",
    "\n",
    "# se escribe\n",
    "epub.write_epub('mtg-dominaria-united.epub', book, {})\n"
   ]
  }
 ],
 "metadata": {
  "environment": {
   "kernel": "python3",
   "name": "tf2-gpu.2-6.m94",
   "type": "gcloud",
   "uri": "gcr.io/deeplearning-platform-release/tf2-gpu.2-6:m94"
  },
  "kernelspec": {
   "display_name": "Python 3",
   "language": "python",
   "name": "python3"
  },
  "language_info": {
   "codemirror_mode": {
    "name": "ipython",
    "version": 3
   },
   "file_extension": ".py",
   "mimetype": "text/x-python",
   "name": "python",
   "nbconvert_exporter": "python",
   "pygments_lexer": "ipython3",
   "version": "3.7.12"
  }
 },
 "nbformat": 4,
 "nbformat_minor": 5
}
